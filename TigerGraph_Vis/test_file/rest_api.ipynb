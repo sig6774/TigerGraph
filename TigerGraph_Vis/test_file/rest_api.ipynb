{
 "cells": [
  {
   "cell_type": "code",
   "execution_count": 1,
   "metadata": {},
   "outputs": [],
   "source": [
    "import requests, json"
   ]
  },
  {
   "cell_type": "code",
   "execution_count": 2,
   "metadata": {},
   "outputs": [],
   "source": [
    "URL = \"http://43.201.137.235:9000/graph/Recom/vertices/USER/5\"\n",
    "URL = \"http://43.201.137.235:14240/restpp/query/Recom/rest_api_edges?input_user=5\""
   ]
  },
  {
   "cell_type": "code",
   "execution_count": 3,
   "metadata": {},
   "outputs": [],
   "source": [
    "response = requests.get(URL, headers = {\"Authorization\" : \"Bearer token_id\"})\n",
    "# Bearer뒤에 토큰 아이디 \n",
    "# print(json.loads(response.text))"
   ]
  },
  {
   "cell_type": "code",
   "execution_count": 12,
   "metadata": {},
   "outputs": [
    {
     "name": "stdout",
     "output_type": "stream",
     "text": [
      "[{'e_type': 'rate', 'from_id': '5', 'from_type': 'USER', 'to_id': '301', 'to_type': 'MOVIE', 'directed': False, 'attributes': {'rating': 1.79605, 'label': True}}, {'e_type': 'rate', 'from_id': '5', 'from_type': 'USER', 'to_id': '359', 'to_type': 'MOVIE', 'directed': False, 'attributes': {'rating': 1.46667, 'label': True}}, {'e_type': 'rate', 'from_id': '5', 'from_type': 'USER', 'to_id': '258', 'to_type': 'MOVIE', 'directed': False, 'attributes': {'rating': 1.2095, 'label': True}}, {'e_type': 'rate', 'from_id': '5', 'from_type': 'USER', 'to_id': '264', 'to_type': 'MOVIE', 'directed': False, 'attributes': {'rating': 0.15385, 'label': True}}, {'e_type': 'rate', 'from_id': '5', 'from_type': 'USER', 'to_id': '271', 'to_type': 'MOVIE', 'directed': False, 'attributes': {'rating': 0.78947, 'label': False}}, {'e_type': 'rate', 'from_id': '5', 'from_type': 'USER', 'to_id': '360', 'to_type': 'MOVIE', 'directed': False, 'attributes': {'rating': 1.875, 'label': True}}, {'e_type': 'rate', 'from_id': '5', 'from_type': 'USER', 'to_id': '260', 'to_type': 'MOVIE', 'directed': False, 'attributes': {'rating': 1.53425, 'label': True}}, {'e_type': 'rate', 'from_id': '5', 'from_type': 'USER', 'to_id': '354', 'to_type': 'MOVIE', 'directed': False, 'attributes': {'rating': 1.36957, 'label': False}}, {'e_type': 'rate', 'from_id': '5', 'from_type': 'USER', 'to_id': '356', 'to_type': 'MOVIE', 'directed': False, 'attributes': {'rating': -0.31667, 'label': True}}, {'e_type': 'rate', 'from_id': '5', 'from_type': 'USER', 'to_id': '329', 'to_type': 'MOVIE', 'directed': False, 'attributes': {'rating': 1.78788, 'label': True}}, {'e_type': 'rate', 'from_id': '5', 'from_type': 'USER', 'to_id': '361', 'to_type': 'MOVIE', 'directed': False, 'attributes': {'rating': 1.875, 'label': True}}, {'e_type': 'rate', 'from_id': '5', 'from_type': 'USER', 'to_id': '294', 'to_type': 'MOVIE', 'directed': False, 'attributes': {'rating': 1.83278, 'label': True}}, {'e_type': 'rate', 'from_id': '5', 'from_type': 'USER', 'to_id': '362', 'to_type': 'MOVIE', 'directed': False, 'attributes': {'rating': 2.11111, 'label': True}}, {'e_type': 'rate', 'from_id': '5', 'from_type': 'USER', 'to_id': '358', 'to_type': 'MOVIE', 'directed': False, 'attributes': {'rating': -0.69149, 'label': True}}, {'e_type': 'rate', 'from_id': '5', 'from_type': 'USER', 'to_id': '288', 'to_type': 'MOVIE', 'directed': False, 'attributes': {'rating': 0.59331, 'label': False}}, {'e_type': 'rate', 'from_id': '5', 'from_type': 'USER', 'to_id': '300', 'to_type': 'MOVIE', 'directed': False, 'attributes': {'rating': 1.47619, 'label': False}}, {'e_type': 'rate', 'from_id': '5', 'from_type': 'USER', 'to_id': '11', 'to_type': 'MOVIE', 'directed': False, 'attributes': {'rating': 0.19663, 'label': False}}, {'e_type': 'rate', 'from_id': '5', 'from_type': 'USER', 'to_id': '210', 'to_type': 'MOVIE', 'directed': False, 'attributes': {'rating': -0.93651, 'label': False}}, {'e_type': 'rate', 'from_id': '5', 'from_type': 'USER', 'to_id': '303', 'to_type': 'MOVIE', 'directed': False, 'attributes': {'rating': 1.27885, 'label': False}}, {'e_type': 'rate', 'from_id': '5', 'from_type': 'USER', 'to_id': '327', 'to_type': 'MOVIE', 'directed': False, 'attributes': {'rating': 1.60526, 'label': True}}, {'e_type': 'rate', 'from_id': '5', 'from_type': 'USER', 'to_id': '324', 'to_type': 'MOVIE', 'directed': False, 'attributes': {'rating': 1.87629, 'label': False}}, {'e_type': 'rate', 'from_id': '5', 'from_type': 'USER', 'to_id': '328', 'to_type': 'MOVIE', 'directed': False, 'attributes': {'rating': -0.37037, 'label': True}}, {'e_type': 'rate', 'from_id': '5', 'from_type': 'USER', 'to_id': '50', 'to_type': 'MOVIE', 'directed': False, 'attributes': {'rating': 0.65741, 'label': False}}, {'e_type': 'rate', 'from_id': '5', 'from_type': 'USER', 'to_id': '357', 'to_type': 'MOVIE', 'directed': False, 'attributes': {'rating': -0.30233, 'label': True}}]\n"
     ]
    }
   ],
   "source": [
    "data = json.loads(response.text)\n",
    "print(data.get(\"results\")[0].get(\"@@total_edges\"))"
   ]
  },
  {
   "cell_type": "code",
   "execution_count": 13,
   "metadata": {},
   "outputs": [
    {
     "name": "stdout",
     "output_type": "stream",
     "text": [
      "{'e_type': 'rate', 'from_id': '5', 'from_type': 'USER', 'to_id': '301', 'to_type': 'MOVIE', 'directed': False, 'attributes': {'rating': 1.79605, 'label': True}}\n",
      "{'e_type': 'rate', 'from_id': '5', 'from_type': 'USER', 'to_id': '359', 'to_type': 'MOVIE', 'directed': False, 'attributes': {'rating': 1.46667, 'label': True}}\n",
      "{'e_type': 'rate', 'from_id': '5', 'from_type': 'USER', 'to_id': '258', 'to_type': 'MOVIE', 'directed': False, 'attributes': {'rating': 1.2095, 'label': True}}\n",
      "{'e_type': 'rate', 'from_id': '5', 'from_type': 'USER', 'to_id': '264', 'to_type': 'MOVIE', 'directed': False, 'attributes': {'rating': 0.15385, 'label': True}}\n",
      "{'e_type': 'rate', 'from_id': '5', 'from_type': 'USER', 'to_id': '271', 'to_type': 'MOVIE', 'directed': False, 'attributes': {'rating': 0.78947, 'label': False}}\n",
      "{'e_type': 'rate', 'from_id': '5', 'from_type': 'USER', 'to_id': '360', 'to_type': 'MOVIE', 'directed': False, 'attributes': {'rating': 1.875, 'label': True}}\n",
      "{'e_type': 'rate', 'from_id': '5', 'from_type': 'USER', 'to_id': '260', 'to_type': 'MOVIE', 'directed': False, 'attributes': {'rating': 1.53425, 'label': True}}\n",
      "{'e_type': 'rate', 'from_id': '5', 'from_type': 'USER', 'to_id': '354', 'to_type': 'MOVIE', 'directed': False, 'attributes': {'rating': 1.36957, 'label': False}}\n",
      "{'e_type': 'rate', 'from_id': '5', 'from_type': 'USER', 'to_id': '356', 'to_type': 'MOVIE', 'directed': False, 'attributes': {'rating': -0.31667, 'label': True}}\n",
      "{'e_type': 'rate', 'from_id': '5', 'from_type': 'USER', 'to_id': '329', 'to_type': 'MOVIE', 'directed': False, 'attributes': {'rating': 1.78788, 'label': True}}\n",
      "{'e_type': 'rate', 'from_id': '5', 'from_type': 'USER', 'to_id': '361', 'to_type': 'MOVIE', 'directed': False, 'attributes': {'rating': 1.875, 'label': True}}\n",
      "{'e_type': 'rate', 'from_id': '5', 'from_type': 'USER', 'to_id': '294', 'to_type': 'MOVIE', 'directed': False, 'attributes': {'rating': 1.83278, 'label': True}}\n",
      "{'e_type': 'rate', 'from_id': '5', 'from_type': 'USER', 'to_id': '362', 'to_type': 'MOVIE', 'directed': False, 'attributes': {'rating': 2.11111, 'label': True}}\n",
      "{'e_type': 'rate', 'from_id': '5', 'from_type': 'USER', 'to_id': '358', 'to_type': 'MOVIE', 'directed': False, 'attributes': {'rating': -0.69149, 'label': True}}\n",
      "{'e_type': 'rate', 'from_id': '5', 'from_type': 'USER', 'to_id': '288', 'to_type': 'MOVIE', 'directed': False, 'attributes': {'rating': 0.59331, 'label': False}}\n",
      "{'e_type': 'rate', 'from_id': '5', 'from_type': 'USER', 'to_id': '300', 'to_type': 'MOVIE', 'directed': False, 'attributes': {'rating': 1.47619, 'label': False}}\n",
      "{'e_type': 'rate', 'from_id': '5', 'from_type': 'USER', 'to_id': '11', 'to_type': 'MOVIE', 'directed': False, 'attributes': {'rating': 0.19663, 'label': False}}\n",
      "{'e_type': 'rate', 'from_id': '5', 'from_type': 'USER', 'to_id': '210', 'to_type': 'MOVIE', 'directed': False, 'attributes': {'rating': -0.93651, 'label': False}}\n",
      "{'e_type': 'rate', 'from_id': '5', 'from_type': 'USER', 'to_id': '303', 'to_type': 'MOVIE', 'directed': False, 'attributes': {'rating': 1.27885, 'label': False}}\n",
      "{'e_type': 'rate', 'from_id': '5', 'from_type': 'USER', 'to_id': '327', 'to_type': 'MOVIE', 'directed': False, 'attributes': {'rating': 1.60526, 'label': True}}\n",
      "{'e_type': 'rate', 'from_id': '5', 'from_type': 'USER', 'to_id': '324', 'to_type': 'MOVIE', 'directed': False, 'attributes': {'rating': 1.87629, 'label': False}}\n",
      "{'e_type': 'rate', 'from_id': '5', 'from_type': 'USER', 'to_id': '328', 'to_type': 'MOVIE', 'directed': False, 'attributes': {'rating': -0.37037, 'label': True}}\n",
      "{'e_type': 'rate', 'from_id': '5', 'from_type': 'USER', 'to_id': '50', 'to_type': 'MOVIE', 'directed': False, 'attributes': {'rating': 0.65741, 'label': False}}\n",
      "{'e_type': 'rate', 'from_id': '5', 'from_type': 'USER', 'to_id': '357', 'to_type': 'MOVIE', 'directed': False, 'attributes': {'rating': -0.30233, 'label': True}}\n"
     ]
    }
   ],
   "source": [
    "for i in data.get(\"results\")[0].get(\"@@total_edges\"):\n",
    "    print(i)"
   ]
  },
  {
   "cell_type": "code",
   "execution_count": 16,
   "metadata": {},
   "outputs": [
    {
     "name": "stdout",
     "output_type": "stream",
     "text": [
      "   e_type from_id from_type to_id to_type  directed  \\\n",
      "0    rate       5      USER   301   MOVIE     False   \n",
      "1    rate       5      USER   359   MOVIE     False   \n",
      "2    rate       5      USER   258   MOVIE     False   \n",
      "3    rate       5      USER   264   MOVIE     False   \n",
      "4    rate       5      USER   271   MOVIE     False   \n",
      "5    rate       5      USER   360   MOVIE     False   \n",
      "6    rate       5      USER   260   MOVIE     False   \n",
      "7    rate       5      USER   354   MOVIE     False   \n",
      "8    rate       5      USER   356   MOVIE     False   \n",
      "9    rate       5      USER   329   MOVIE     False   \n",
      "10   rate       5      USER   361   MOVIE     False   \n",
      "11   rate       5      USER   294   MOVIE     False   \n",
      "12   rate       5      USER   362   MOVIE     False   \n",
      "13   rate       5      USER   358   MOVIE     False   \n",
      "14   rate       5      USER   288   MOVIE     False   \n",
      "15   rate       5      USER   300   MOVIE     False   \n",
      "16   rate       5      USER    11   MOVIE     False   \n",
      "17   rate       5      USER   210   MOVIE     False   \n",
      "18   rate       5      USER   303   MOVIE     False   \n",
      "19   rate       5      USER   327   MOVIE     False   \n",
      "20   rate       5      USER   324   MOVIE     False   \n",
      "21   rate       5      USER   328   MOVIE     False   \n",
      "22   rate       5      USER    50   MOVIE     False   \n",
      "23   rate       5      USER   357   MOVIE     False   \n",
      "\n",
      "                              attributes  \n",
      "0     {'rating': 1.79605, 'label': True}  \n",
      "1     {'rating': 1.46667, 'label': True}  \n",
      "2      {'rating': 1.2095, 'label': True}  \n",
      "3     {'rating': 0.15385, 'label': True}  \n",
      "4    {'rating': 0.78947, 'label': False}  \n",
      "5       {'rating': 1.875, 'label': True}  \n",
      "6     {'rating': 1.53425, 'label': True}  \n",
      "7    {'rating': 1.36957, 'label': False}  \n",
      "8    {'rating': -0.31667, 'label': True}  \n",
      "9     {'rating': 1.78788, 'label': True}  \n",
      "10      {'rating': 1.875, 'label': True}  \n",
      "11    {'rating': 1.83278, 'label': True}  \n",
      "12    {'rating': 2.11111, 'label': True}  \n",
      "13   {'rating': -0.69149, 'label': True}  \n",
      "14   {'rating': 0.59331, 'label': False}  \n",
      "15   {'rating': 1.47619, 'label': False}  \n",
      "16   {'rating': 0.19663, 'label': False}  \n",
      "17  {'rating': -0.93651, 'label': False}  \n",
      "18   {'rating': 1.27885, 'label': False}  \n",
      "19    {'rating': 1.60526, 'label': True}  \n",
      "20   {'rating': 1.87629, 'label': False}  \n",
      "21   {'rating': -0.37037, 'label': True}  \n",
      "22   {'rating': 0.65741, 'label': False}  \n",
      "23   {'rating': -0.30233, 'label': True}  \n"
     ]
    }
   ],
   "source": [
    "import pandas as pd \n",
    "res = pd.DataFrame(data.get(\"results\")[0].get(\"@@total_edges\"))\n",
    "print(res)"
   ]
  },
  {
   "cell_type": "code",
   "execution_count": null,
   "metadata": {},
   "outputs": [],
   "source": []
  }
 ],
 "metadata": {
  "kernelspec": {
   "display_name": "base",
   "language": "python",
   "name": "python3"
  },
  "language_info": {
   "codemirror_mode": {
    "name": "ipython",
    "version": 3
   },
   "file_extension": ".py",
   "mimetype": "text/x-python",
   "name": "python",
   "nbconvert_exporter": "python",
   "pygments_lexer": "ipython3",
   "version": "3.9.12 (main, Apr  5 2022, 01:52:34) \n[Clang 12.0.0 ]"
  },
  "orig_nbformat": 4,
  "vscode": {
   "interpreter": {
    "hash": "4e56095587f6faaee8b6fe269bd4758f04d4dcfca17a97e0204e5c06e32115c1"
   }
  }
 },
 "nbformat": 4,
 "nbformat_minor": 2
}
