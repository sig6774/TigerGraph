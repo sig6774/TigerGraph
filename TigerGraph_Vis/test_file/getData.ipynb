{
 "cells": [
  {
   "cell_type": "code",
   "execution_count": 1,
   "metadata": {},
   "outputs": [],
   "source": [
    "import pyTigerGraph as tg \n",
    "from flask import Flask, render_template, jsonify"
   ]
  },
  {
   "cell_type": "code",
   "execution_count": 3,
   "metadata": {},
   "outputs": [],
   "source": [
    "graph = tg.TigerGraphConnection(\n",
    "        host=\"http://43.201.137.235\",\n",
    "        graphname=\"Recom\",\n",
    "        apiToken=\"token_id\"\n",
    ")"
   ]
  },
  {
   "cell_type": "code",
   "execution_count": 9,
   "metadata": {},
   "outputs": [
    {
     "name": "stdout",
     "output_type": "stream",
     "text": [
      "[{'v_id': '5', 'v_type': 'USER', 'attributes': {'user_id': '5', 'theta': [-0.04596, 0.24553, 0.34633, 0.38575, 0.55676, 0.30767, 0.33637, -0.07399, 0.15332, 0.2817]}}]\n"
     ]
    }
   ],
   "source": [
    "EDA = graph.runInstalledQuery(\"EDA?input_user=5\")\n",
    "# print(s)\n",
    "# print()\n",
    "print(EDA[0]['user'])"
   ]
  },
  {
   "cell_type": "code",
   "execution_count": 10,
   "metadata": {},
   "outputs": [
    {
     "name": "stdout",
     "output_type": "stream",
     "text": [
      "[{'v_id': '301', 'v_type': 'MOVIE', 'attributes': {'movie_id': '301', 'name': 'In & Out (1997)', 'avg_rating': 3.20395, 'x': [0.14065, 0.15514, 0.37767, -0.03296, -0.08363, -0.36988, 0.35896, 0.32532, 0.17533, 0.66917]}}, {'v_id': '359', 'v_type': 'MOVIE', 'attributes': {'movie_id': '359', 'name': 'Assignment, The (1997)', 'avg_rating': 3.53333, 'x': [0.19652, 0.55204, 0.10525, 0.29383, 0.33106, 0.30736, 0.34733, 0.16546, 0.24882, 0.38231]}}, {'v_id': '258', 'v_type': 'MOVIE', 'attributes': {'movie_id': '258', 'name': 'Contact (1997)', 'avg_rating': 3.7905, 'x': [0.17508, -0.38154, 0.36856, -0.13822, 0.13576, -0.13075, 0.67879, 0.24648, -0.34207, 0.29794]}}, {'v_id': '360', 'v_type': 'MOVIE', 'attributes': {'movie_id': '360', 'name': 'Wonderland (1997)', 'avg_rating': 3.125, 'x': [0.08268, 0.27215, 0.18105, 0.26556, 0.52099, 0.32457, 0.14467, -0.04517, 0.45147, 0.14729]}}, {'v_id': '354', 'v_type': 'MOVIE', 'attributes': {'movie_id': '354', 'name': 'Wedding Singer, The (1998)', 'avg_rating': 3.63043, 'x': [0.20957, 0.19422, 0.13686, -0.12553, 0.17484, -0.04654, 0.04347, 0.23893, 0.26329, 0.21034]}}, {'v_id': '288', 'v_type': 'MOVIE', 'attributes': {'movie_id': '288', 'name': 'Scream (1996)', 'avg_rating': 3.40669, 'x': [0.42402, -0.65739, -0.25492, 0.529, -0.13561, 0.62549, 0.6249, 0.58024, -0.2577, 0.0676]}}, {'v_id': '294', 'v_type': 'MOVIE', 'attributes': {'movie_id': '294', 'name': 'Liar Liar (1997)', 'avg_rating': 3.16722, 'x': [0.4338, 0.14012, 0.21529, 0.07447, 0.91941, 0.05613, 0.47332, -0.48288, -0.24386, 0.23995]}}, {'v_id': '260', 'v_type': 'MOVIE', 'attributes': {'movie_id': '260', 'name': 'Event Horizon (1997)', 'avg_rating': 2.46575, 'x': [0.09042, 0.1607, 0.06683, 0.17375, 0.34269, 0.16812, 0.15925, 0.0279, 0.36339, 0.04158]}}, {'v_id': '264', 'v_type': 'MOVIE', 'attributes': {'movie_id': '264', 'name': 'Mimic (1997)', 'avg_rating': 2.84615, 'x': [0.22186, -0.0508, -0.13002, 0.12519, 0.21474, 0.06738, -0.00088, 0.18099, 0.29725, 0.26975]}}, {'v_id': '361', 'v_type': 'MOVIE', 'attributes': {'movie_id': '361', 'name': 'Incognito (1997)', 'avg_rating': 3.125, 'x': [0.13713, 0.113, 0.16546, 0.2992, 0.47299, 0.2753, 0.08617, 0.10928, 0.14983, 0.24176]}}, {'v_id': '324', 'v_type': 'MOVIE', 'attributes': {'movie_id': '324', 'name': 'Lost Highway (1997)', 'avg_rating': 3.12371, 'x': [0.10931, 0.01526, 0.33864, 0.28802, 0.07795, 0.00823, 0.23409, 0.45917, 0.14926, -0.14933]}}, {'v_id': '328', 'v_type': 'MOVIE', 'attributes': {'movie_id': '328', 'name': 'Conspiracy Theory (1997)', 'avg_rating': 3.37037, 'x': [0.74461, 0.08621, -0.07668, 0.12375, 0.44411, 0.13281, -0.12917, -0.0228, 0.14235, -0.28565]}}, {'v_id': '300', 'v_type': 'MOVIE', 'attributes': {'movie_id': '300', 'name': 'Air Force One (1997)', 'avg_rating': 3.52381, 'x': [0.89742, -0.16799, -0.49261, 0.94898, 0.64301, 0.30738, 0.15853, -0.14853, 0.0598, -0.17977]}}, {'v_id': '11', 'v_type': 'MOVIE', 'attributes': {'movie_id': '11', 'name': 'Seven (Se7en) (1995)', 'avg_rating': 3.80337, 'x': [-0.05322, 0.42311, -0.18475, 0.02185, 0.27776, 0.40081, 0.46009, 0.19006, 0.07534, 0.24227]}}, {'v_id': '210', 'v_type': 'MOVIE', 'attributes': {'movie_id': '210', 'name': 'Indiana Jones and the Last Crusade (1989)', 'avg_rating': 3.93651, 'x': [0.8679, -0.03312, -0.09918, -0.0432, 0.43478, 0.43759, 0.10224, 0.26867, -0.31186, 0.52817]}}, {'v_id': '362', 'v_type': 'MOVIE', 'attributes': {'movie_id': '362', 'name': 'Blues Brothers 2000 (1998)', 'avg_rating': 2.88889, 'x': [-0.04574, 0.18415, 0.28833, 0.30235, 0.10791, 0.0987, 0.27691, 0.03472, 0.11654, -0.05447]}}, {'v_id': '327', 'v_type': 'MOVIE', 'attributes': {'movie_id': '327', 'name': 'Cop Land (1997)', 'avg_rating': 3.39474, 'x': [0.00736, 0.17263, 0.34319, 0.4817, 0.23302, 0.15546, 0.30099, -0.0882, 0.22595, 0.39449]}}, {'v_id': '356', 'v_type': 'MOVIE', 'attributes': {'movie_id': '356', 'name': 'Client, The (1994)', 'avg_rating': 3.31667, 'x': [0.37657, -0.05195, -0.21969, -0.19648, 0.02149, 0.35839, 0.25689, 0.19712, 0.34123, 0.02606]}}, {'v_id': '329', 'v_type': 'MOVIE', 'attributes': {'movie_id': '329', 'name': 'Desperate Measures (1998)', 'avg_rating': 3.21212, 'x': [0.30787, 0.40812, 0.12769, 0.25014, 0.29205, 0.23387, 0.3297, -0.00664, -0.03904, 0.21706]}}, {'v_id': '358', 'v_type': 'MOVIE', 'attributes': {'movie_id': '358', 'name': 'Spawn (1997)', 'avg_rating': 2.69149, 'x': [0.25966, 0.70925, -0.08516, 0.11856, 0.27397, -0.08127, 0.13203, 0.29621, 0.33062, 0.28351]}}, {'v_id': '50', 'v_type': 'MOVIE', 'attributes': {'movie_id': '50', 'name': 'Star Wars (1977)', 'avg_rating': 4.34259, 'x': [0.7134, 0.40454, -0.2577, -0.34238, -0.22492, 0.25538, 0.47969, 0.59408, -0.18721, -0.20274]}}, {'v_id': '357', 'v_type': 'MOVIE', 'attributes': {'movie_id': '357', 'name': \"One Flew Over the Cuckoo's Nest (1975)\", 'avg_rating': 4.30233, 'x': [0.63261, -0.00884, 0.18668, 0.23314, -0.16084, -0.13683, 0.24422, 0.22747, 0.29149, -0.15018]}}, {'v_id': '303', 'v_type': 'MOVIE', 'attributes': {'movie_id': '303', 'name': \"Ulee's Gold (1997)\", 'avg_rating': 3.72115, 'x': [-0.06187, 0.32691, 0.23692, -0.01814, 0.28038, 0.17021, 0.15566, 0.19705, 0.3296, 0.28961]}}, {'v_id': '271', 'v_type': 'MOVIE', 'attributes': {'movie_id': '271', 'name': 'Starship Troopers (1997)', 'avg_rating': 3.21053, 'x': [0.25691, -0.03067, -0.37788, 0.58095, 0.09916, 0.48494, 0.36018, 0.65123, -0.06034, 0.03059]}}]\n"
     ]
    }
   ],
   "source": [
    "print(EDA[1]['movie'])"
   ]
  },
  {
   "cell_type": "code",
   "execution_count": 15,
   "metadata": {},
   "outputs": [],
   "source": [
    "v_user = EDA[0]['user']\n",
    "v_movie = EDA[1]['movie']\n",
    "edges = EDA[2]['@@edge_List']"
   ]
  },
  {
   "cell_type": "code",
   "execution_count": 25,
   "metadata": {},
   "outputs": [
    {
     "name": "stdout",
     "output_type": "stream",
     "text": [
      "301\n",
      "{'movie_id': '359', 'name': 'Assignment, The (1997)', 'avg_rating': 3.53333, 'x': [0.19652, 0.55204, 0.10525, 0.29383, 0.33106, 0.30736, 0.34733, 0.16546, 0.24882, 0.38231]}\n"
     ]
    }
   ],
   "source": [
    "print(v_movie[0][\"v_id\"])\n",
    "print(v_movie[1][\"attributes\"])"
   ]
  },
  {
   "cell_type": "code",
   "execution_count": 27,
   "metadata": {},
   "outputs": [],
   "source": [
    "nodes = [] \n",
    "for i in range(len(v_user)):\n",
    "    nodes.append({\n",
    "        \"id\" : v_user[i][\"attributes\"][\"user_id\"],\n",
    "        \"group\" : 1\n",
    "    })\n",
    "\n",
    "for i in range(len(v_movie)):\n",
    "    nodes.append({\n",
    "        \"id\" : v_movie[i][\"attributes\"][\"movie_id\"],\n",
    "        \"name\" : v_movie[i][\"attributes\"][\"name\"],\n",
    "        \"group\" : 2\n",
    "    })"
   ]
  },
  {
   "cell_type": "code",
   "execution_count": 28,
   "metadata": {},
   "outputs": [
    {
     "name": "stdout",
     "output_type": "stream",
     "text": [
      "[{'id': '5', 'group': 1}, {'id': '301', 'name': 'In & Out (1997)', 'group': 2}, {'id': '359', 'name': 'Assignment, The (1997)', 'group': 2}, {'id': '258', 'name': 'Contact (1997)', 'group': 2}, {'id': '360', 'name': 'Wonderland (1997)', 'group': 2}, {'id': '354', 'name': 'Wedding Singer, The (1998)', 'group': 2}, {'id': '288', 'name': 'Scream (1996)', 'group': 2}, {'id': '294', 'name': 'Liar Liar (1997)', 'group': 2}, {'id': '260', 'name': 'Event Horizon (1997)', 'group': 2}, {'id': '264', 'name': 'Mimic (1997)', 'group': 2}, {'id': '361', 'name': 'Incognito (1997)', 'group': 2}, {'id': '324', 'name': 'Lost Highway (1997)', 'group': 2}, {'id': '328', 'name': 'Conspiracy Theory (1997)', 'group': 2}, {'id': '300', 'name': 'Air Force One (1997)', 'group': 2}, {'id': '11', 'name': 'Seven (Se7en) (1995)', 'group': 2}, {'id': '210', 'name': 'Indiana Jones and the Last Crusade (1989)', 'group': 2}, {'id': '362', 'name': 'Blues Brothers 2000 (1998)', 'group': 2}, {'id': '327', 'name': 'Cop Land (1997)', 'group': 2}, {'id': '356', 'name': 'Client, The (1994)', 'group': 2}, {'id': '329', 'name': 'Desperate Measures (1998)', 'group': 2}, {'id': '358', 'name': 'Spawn (1997)', 'group': 2}, {'id': '50', 'name': 'Star Wars (1977)', 'group': 2}, {'id': '357', 'name': \"One Flew Over the Cuckoo's Nest (1975)\", 'group': 2}, {'id': '303', 'name': \"Ulee's Gold (1997)\", 'group': 2}, {'id': '271', 'name': 'Starship Troopers (1997)', 'group': 2}]\n"
     ]
    }
   ],
   "source": [
    "print(nodes)"
   ]
  },
  {
   "cell_type": "code",
   "execution_count": 30,
   "metadata": {},
   "outputs": [
    {
     "name": "stdout",
     "output_type": "stream",
     "text": [
      "{'e_type': 'rate', 'from_id': '5', 'from_type': 'USER', 'to_id': '301', 'to_type': 'MOVIE', 'directed': False, 'attributes': {'rating': 1.79605, 'label': True}}\n"
     ]
    }
   ],
   "source": [
    "print(edges[0])"
   ]
  },
  {
   "cell_type": "code",
   "execution_count": 31,
   "metadata": {},
   "outputs": [],
   "source": [
    "for i in range(len(edges)):\n",
    "    if edges[i][\"to_type\"] != 'MOVIE':\n",
    "        print(edges[i])"
   ]
  },
  {
   "cell_type": "code",
   "execution_count": 32,
   "metadata": {},
   "outputs": [
    {
     "name": "stdout",
     "output_type": "stream",
     "text": [
      "[{'source': '5', 'target': '301', 'group': 4}, {'source': '5', 'target': '359', 'group': 4}, {'source': '5', 'target': '258', 'group': 4}, {'source': '5', 'target': '264', 'group': 4}, {'source': '5', 'target': '271', 'group': 4}, {'source': '5', 'target': '360', 'group': 4}, {'source': '5', 'target': '260', 'group': 4}, {'source': '5', 'target': '354', 'group': 4}, {'source': '5', 'target': '356', 'group': 4}, {'source': '5', 'target': '329', 'group': 4}, {'source': '5', 'target': '361', 'group': 4}, {'source': '5', 'target': '294', 'group': 4}, {'source': '5', 'target': '362', 'group': 4}, {'source': '5', 'target': '358', 'group': 4}, {'source': '5', 'target': '288', 'group': 4}, {'source': '5', 'target': '300', 'group': 4}, {'source': '5', 'target': '11', 'group': 4}, {'source': '5', 'target': '210', 'group': 4}, {'source': '5', 'target': '303', 'group': 4}, {'source': '5', 'target': '327', 'group': 4}, {'source': '5', 'target': '324', 'group': 4}, {'source': '5', 'target': '328', 'group': 4}, {'source': '5', 'target': '50', 'group': 4}, {'source': '5', 'target': '357', 'group': 4}]\n"
     ]
    }
   ],
   "source": [
    "links = []\n",
    "for i in range(len(edges)):\n",
    "    links.append({\n",
    "        \"source\" : edges[i][\"from_id\"],\n",
    "        \"target\" : edges[i][\"to_id\"],\n",
    "        \"group\" : 4\n",
    "    })\n",
    "print(links)\n"
   ]
  },
  {
   "cell_type": "code",
   "execution_count": 2,
   "metadata": {},
   "outputs": [],
   "source": [
    "app = Flask(__name__)\n",
    "\n",
    "@app.route(\"/\")\n",
    "def index():\n",
    "    return render_template(\"/Users/sig6774/TigerGraph/index.html\")"
   ]
  },
  {
   "cell_type": "code",
   "execution_count": 3,
   "metadata": {},
   "outputs": [
    {
     "name": "stdout",
     "output_type": "stream",
     "text": [
      " * Serving Flask app '__main__'\n",
      " * Debug mode: off\n"
     ]
    },
    {
     "name": "stderr",
     "output_type": "stream",
     "text": [
      "WARNING: This is a development server. Do not use it in a production deployment. Use a production WSGI server instead.\n",
      " * Running on http://127.0.0.1:5000\n",
      "Press CTRL+C to quit\n",
      "[2023-02-05 19:57:21,749] ERROR in app: Exception on / [GET]\n",
      "Traceback (most recent call last):\n",
      "  File \"/Users/sig6774/opt/anaconda3/lib/python3.9/site-packages/flask/app.py\", line 2525, in wsgi_app\n",
      "    response = self.full_dispatch_request()\n",
      "  File \"/Users/sig6774/opt/anaconda3/lib/python3.9/site-packages/flask/app.py\", line 1822, in full_dispatch_request\n",
      "    rv = self.handle_user_exception(e)\n",
      "  File \"/Users/sig6774/opt/anaconda3/lib/python3.9/site-packages/flask/app.py\", line 1820, in full_dispatch_request\n",
      "    rv = self.dispatch_request()\n",
      "  File \"/Users/sig6774/opt/anaconda3/lib/python3.9/site-packages/flask/app.py\", line 1796, in dispatch_request\n",
      "    return self.ensure_sync(self.view_functions[rule.endpoint])(**view_args)\n",
      "  File \"/var/folders/rn/572w08lj1f91tkntfly8qw7h0000gn/T/ipykernel_11883/2839502237.py\", line 5, in index\n",
      "    return render_template(\"/Users/sig6774/TigerGraph/index.html\")\n",
      "  File \"/Users/sig6774/opt/anaconda3/lib/python3.9/site-packages/flask/templating.py\", line 146, in render_template\n",
      "    template = app.jinja_env.get_or_select_template(template_name_or_list)\n",
      "  File \"/Users/sig6774/opt/anaconda3/lib/python3.9/site-packages/jinja2/environment.py\", line 1068, in get_or_select_template\n",
      "    return self.get_template(template_name_or_list, parent, globals)\n",
      "  File \"/Users/sig6774/opt/anaconda3/lib/python3.9/site-packages/jinja2/environment.py\", line 997, in get_template\n",
      "    return self._load_template(name, globals)\n",
      "  File \"/Users/sig6774/opt/anaconda3/lib/python3.9/site-packages/jinja2/environment.py\", line 958, in _load_template\n",
      "    template = self.loader.load(self, name, self.make_globals(globals))\n",
      "  File \"/Users/sig6774/opt/anaconda3/lib/python3.9/site-packages/jinja2/loaders.py\", line 125, in load\n",
      "    source, filename, uptodate = self.get_source(environment, name)\n",
      "  File \"/Users/sig6774/opt/anaconda3/lib/python3.9/site-packages/flask/templating.py\", line 62, in get_source\n",
      "    return self._get_source_fast(environment, template)\n",
      "  File \"/Users/sig6774/opt/anaconda3/lib/python3.9/site-packages/flask/templating.py\", line 98, in _get_source_fast\n",
      "    raise TemplateNotFound(template)\n",
      "jinja2.exceptions.TemplateNotFound: /Users/sig6774/TigerGraph/index.html\n",
      "127.0.0.1 - - [05/Feb/2023 19:57:21] \"GET / HTTP/1.1\" 500 -\n",
      "[2023-02-05 19:57:47,713] ERROR in app: Exception on / [GET]\n",
      "Traceback (most recent call last):\n",
      "  File \"/Users/sig6774/opt/anaconda3/lib/python3.9/site-packages/flask/app.py\", line 2525, in wsgi_app\n",
      "    response = self.full_dispatch_request()\n",
      "  File \"/Users/sig6774/opt/anaconda3/lib/python3.9/site-packages/flask/app.py\", line 1822, in full_dispatch_request\n",
      "    rv = self.handle_user_exception(e)\n",
      "  File \"/Users/sig6774/opt/anaconda3/lib/python3.9/site-packages/flask/app.py\", line 1820, in full_dispatch_request\n",
      "    rv = self.dispatch_request()\n",
      "  File \"/Users/sig6774/opt/anaconda3/lib/python3.9/site-packages/flask/app.py\", line 1796, in dispatch_request\n",
      "    return self.ensure_sync(self.view_functions[rule.endpoint])(**view_args)\n",
      "  File \"/var/folders/rn/572w08lj1f91tkntfly8qw7h0000gn/T/ipykernel_11883/2839502237.py\", line 5, in index\n",
      "    return render_template(\"/Users/sig6774/TigerGraph/index.html\")\n",
      "  File \"/Users/sig6774/opt/anaconda3/lib/python3.9/site-packages/flask/templating.py\", line 146, in render_template\n",
      "    template = app.jinja_env.get_or_select_template(template_name_or_list)\n",
      "  File \"/Users/sig6774/opt/anaconda3/lib/python3.9/site-packages/jinja2/environment.py\", line 1068, in get_or_select_template\n",
      "    return self.get_template(template_name_or_list, parent, globals)\n",
      "  File \"/Users/sig6774/opt/anaconda3/lib/python3.9/site-packages/jinja2/environment.py\", line 997, in get_template\n",
      "    return self._load_template(name, globals)\n",
      "  File \"/Users/sig6774/opt/anaconda3/lib/python3.9/site-packages/jinja2/environment.py\", line 958, in _load_template\n",
      "    template = self.loader.load(self, name, self.make_globals(globals))\n",
      "  File \"/Users/sig6774/opt/anaconda3/lib/python3.9/site-packages/jinja2/loaders.py\", line 125, in load\n",
      "    source, filename, uptodate = self.get_source(environment, name)\n",
      "  File \"/Users/sig6774/opt/anaconda3/lib/python3.9/site-packages/flask/templating.py\", line 62, in get_source\n",
      "    return self._get_source_fast(environment, template)\n",
      "  File \"/Users/sig6774/opt/anaconda3/lib/python3.9/site-packages/flask/templating.py\", line 98, in _get_source_fast\n",
      "    raise TemplateNotFound(template)\n",
      "jinja2.exceptions.TemplateNotFound: /Users/sig6774/TigerGraph/index.html\n",
      "127.0.0.1 - - [05/Feb/2023 19:57:47] \"GET / HTTP/1.1\" 500 -\n"
     ]
    },
    {
     "ename": "",
     "evalue": "",
     "output_type": "error",
     "traceback": [
      "\u001b[1;31m현재 셀 또는 이전 셀에서 코드를 실행하는 동안 Kernel이 충돌했습니다. 셀의 코드를 검토하여 오류의 가능한 원인을 식별하세요. 자세한 내용을 보려면 <a href='https://aka.ms/vscodeJupyterKernelCrash'> 여기 </a> 를 클릭하세요. 자세한 내용은 Jupyter <a href='command:jupyter.viewOutput'>로그</a>를 참조하세요."
     ]
    },
    {
     "ename": "",
     "evalue": "",
     "output_type": "error",
     "traceback": [
      "\u001b[1;31mCanceled future for execute_request message before replies were done"
     ]
    }
   ],
   "source": [
    "@app.route(\"/all_data\", methods=[\"POST\", \"OPTIONS\"])\n",
    "def get_data():\n",
    "    try:\n",
    "        graph = tg.TigerGraphConnection(\n",
    "            host=\"http://43.201.137.235\",\n",
    "            graphname=\"Recom\",\n",
    "            apiToken=\"a0pibjh3r1bkgji62mlp5eu543951dkg\"\n",
    "        )\n",
    "        EDA = graph.runInstalledQuery(\"EDA\")\n",
    "        vertex = EDA[0]['rt']\n",
    "        nodes = [] \n",
    "        for i in range(len(vertex)):\n",
    "            v_id = vertex[i][\"attributes\"][\"movie_id\"]\n",
    "            v_name = vertex[i][\"attributes\"][\"name\"]\n",
    "        nodes.append({\n",
    "            \"id\" : v_id,\n",
    "            \"name\" : v_name\n",
    "        })\n",
    "\n",
    "        data={\"nodes\" : nodes}\n",
    "        response = jsonify(data)\n",
    "        return response\n",
    "        \n",
    "    except Exception as ex:\n",
    "        response = jsonify({\"Message\": str(ex)})\n",
    "        return response\n",
    "        \n",
    "if __name__ == '__main__':\n",
    "    app.run(port=5000)"
   ]
  },
  {
   "cell_type": "code",
   "execution_count": null,
   "metadata": {},
   "outputs": [],
   "source": []
  }
 ],
 "metadata": {
  "kernelspec": {
   "display_name": "base",
   "language": "python",
   "name": "python3"
  },
  "language_info": {
   "codemirror_mode": {
    "name": "ipython",
    "version": 3
   },
   "file_extension": ".py",
   "mimetype": "text/x-python",
   "name": "python",
   "nbconvert_exporter": "python",
   "pygments_lexer": "ipython3",
   "version": "3.9.12"
  },
  "orig_nbformat": 4,
  "vscode": {
   "interpreter": {
    "hash": "4e56095587f6faaee8b6fe269bd4758f04d4dcfca17a97e0204e5c06e32115c1"
   }
  }
 },
 "nbformat": 4,
 "nbformat_minor": 2
}
